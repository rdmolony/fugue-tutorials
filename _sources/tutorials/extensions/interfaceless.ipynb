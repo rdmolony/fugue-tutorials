{
 "cells": [
  {
   "cell_type": "markdown",
   "metadata": {},
   "source": [
    "# Interfaceless\n",
    "\n",
    "Fugue does have interfaces for all these extensions. But in most of the cases, you don't have to implement these interfaces, instead, Fugue will adapt to your functions and wrap them under these interfaces.\n",
    "\n",
    "One obvious benefit is that most of your code can be totally independent from Fugue. It's not like other computing frameworks, you have to implement their interfaces and use their data structures, and the dependency will spread in your code, it will be hard to move away from them, and testing is also difficult and slow.\n",
    "\n",
    "Actually a more important benefit is that, it helps you separate your logics. What can be independent from the computing framework? What has to depend on that? How to minimize the dependency? When you use Fugue, you naturally think more about these design questions. And with the interfaceless feature, you will be able to achieve them elegantly. Even someday you decide to move away from Fugue, you should find it's simple and the Fugue mindset will still be beneficial when you move into another framework.\n",
    "\n",
    "To be interfaceless, you must have type annotations for your python code so Fugue can understand what you want. Writing python code with type hints are in general regarded as good practice. If you are not familiar, read [PEP 483](https://www.python.org/dev/peps/pep-0483/), [PEP 484](https://www.python.org/dev/peps/pep-0484/), [typing module](https://docs.python.org/3/library/typing.html) and [mypy](http://mypy-lang.org/).\n",
    "\n",
    "Take [**Transformer**](./transformer.ipynb) as an example:"
   ]
  },
  {
   "cell_type": "markdown",
   "metadata": {},
   "source": []
  },
  {
   "cell_type": "code",
   "execution_count": null,
   "metadata": {},
   "outputs": [],
   "source": [
    "# absolutely no dependency on Fugue\n",
    "from typing import List, Dict, Iterable, Any\n",
    "import pandas as pd\n",
    "\n",
    "def transformer1(df:List[List[Any]], a, b) -> List[List[Any]]:\n",
    "    pass\n",
    "\n",
    "def transformer2(df:Iterable[Dict[str, Any]], a, b) -> pd.DataFrame:\n",
    "    pass\n",
    "\n",
    "# schema: *,b:int\n",
    "def transformer3(df:pd.DataFrame, a, b) -> Iterable[Dict[str, Any]]:\n",
    "    pass"
   ]
  },
  {
   "cell_type": "markdown",
   "metadata": {},
   "source": [
    "`transformer1` wants to process a partition of the dataframe in the format of list of list (row in the format of list), also return a list of list. `transformer2` will process a partition in the format of iterable of dict (row in the format of dictionary), and return a pandas dataframe. `transformer3` will be pd.DataFrame in and iterable out, which is a great design pattern for distributed computing (because it can minimize the memory usage).\n",
    "\n",
    "Fugue is able to wrap these 3 functions to Fugue Transformers, and at runtime, the data will be passed in according to the type annotations. Also notice the comment line before `transformer3`, it is to tell Fugue the output schema of the transformation. For `transformer1` and `transformer2` you will need to specify the schema in the Fugue code.\n",
    "\n",
    "These 3 transformers can achieve the same thing, but with the flexibility of input and output, you may write much more intuitive and less tedious code and let Fugue handle the rest.\n",
    "\n",
    "Also with flexibile input and output, Fugue is able to optimize the execution. For example, with iterable input, Fugue will not preload the entire partition in memory, and you can exit the iteration any time. And with pd.DataFrame as input and output, you will get best performance when using [SparkExecutionEngine with pandas_udf](../advanced/useful_config.ipynb#Use-Pandas-UDF-on-SparkExecutionEngine) enabled, because pandas_udf itself requires pd.DataFrame as input and output, so your annotation eliminates data conversion.\n",
    "\n",
    "Parameters are not required to have type annotations, but it's good practice to have annotations for all parameters.\n",
    "\n",
    "It is fine to use class member functions as extensions.\n",
    "\n",
    "* **Why is this useful?** You can initialize the class with certain parameters, and they can be used inside these transformers\n",
    "* **What can be used:**\n",
    "    * native function with comment (schema hint)\n",
    "    * native function without comment (schema hint)\n",
    "* **What can't be used:**\n",
    "    * functions with decorator\n",
    "* **What you need to be careful about?**\n",
    "    * it's a bad idea to modify the class member variables inside a member function, for certain extensions and execution engine, it may not work\n",
    "    * all member variables of the class are better to be simple native data types that are picklable because for certain engine such as Spark, this is required"
   ]
  },
  {
   "cell_type": "code",
   "execution_count": null,
   "metadata": {},
   "outputs": [],
   "source": [
    "import pandas as pd\n",
    "from fugue import FugueWorkflow\n",
    "\n",
    "class Test(object):\n",
    "    def __init__(self, n):\n",
    "        self.n = n\n",
    "        \n",
    "    # schema: *\n",
    "    def transform1(self, df:pd.DataFrame) -> pd.DataFrame:\n",
    "        df[\"a\"]+=self.n\n",
    "        return df\n",
    "    \n",
    "    # schema: *\n",
    "    def transform2(self, df:pd.DataFrame) -> pd.DataFrame:\n",
    "        df[\"a\"]*=self.n\n",
    "        return df\n",
    "    \n",
    "test = Test(5)\n",
    "with FugueWorkflow() as dag:\n",
    "    dag.df([[2]],\"a:int\").transform(test.transform1).show()\n",
    "    dag.df([[2]],\"a:int\").transform(test.transform2).show()"
   ]
  },
  {
   "cell_type": "markdown",
   "metadata": {},
   "source": [
    "## Different Ways to Write Extensions\n",
    "\n",
    "Here is a general comparison on different ways to write Fugue extensions\n",
    "\n",
    "| . | Native | With Comment | With Decorator | Interface |\n",
    "| --- | ---|---|---| ---|\n",
    "|Interfaceless | Yes | Yes | Yes | No |\n",
    "|Independent from Fugue | Yes | Yes | No | No |\n",
    "|Performance | Good | Good | Good | Slightly better |\n",
    "|Function as extension | Yes | Yes | Yes | No (has to be class) |\n",
    "|Fugue can use it without providing schema | Depends | Yes | Yes | Yes |\n",
    "|Flexibility on constructing schema | N/A | OK | Good | Best |\n",
    "|Can use class member functions | Yes | Yes | No | N/A |"
   ]
  }
 ],
 "metadata": {
  "interpreter": {
   "hash": "4cd7ab41f5fca4b9b44701077e38c5ffd31fe66a6cab21e0214b68d958d0e462"
  },
  "kernelspec": {
   "display_name": "Python 3",
   "language": "python",
   "name": "python3"
  },
  "language_info": {
   "name": "python",
   "version": "3.7.9"
  }
 },
 "nbformat": 4,
 "nbformat_minor": 4
}