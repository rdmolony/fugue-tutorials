{
 "cells": [
  {
   "cell_type": "markdown",
   "metadata": {},
   "source": [
    "# Transformer\n",
    "\n",
    "This is the most used extension in Fugue. The `Transformer` represents the logic unit executing on partitions of the input dataframe. Because the `Transformer` is concerned with the logic on a logical partition level, it is unaware of the `ExecutionEngine` and is executed on the workers as opposed to the driver. Partitioning logic is also not a concern of `Transformer` and should be specified in a previous step.\n",
    "\n",
    "Fugue's `partition-transform` semantic is similar to the `groupby-apply` semantic of Pandas. The main difference is that the `partition-transform` semantic is scalable to distributed compute as the distribution of logical groups across workers is accounted for. For more information, read about [partitioning](../advanced/partition.ipynb) in Fugue.\n",
    "\n",
    "In this tutorial are the methods to define an `Transformer`. There is no preferred method and Fugue makes it flexible for users to choose whatever interface works for them. The four ways are native approach, schema hint, decorator, and the class interface in order of simplicity. All of these methods are also compatible with Fugue's `transform` function.\n",
    "\n",
    "## Example Use Cases\n",
    "\n",
    "* **Shift and diff for each group in a timeseries**\n",
    "* **Training seperate ML models for each group of data**\n",
    "* **Applying different validations for each partition**\n",
    "\n",
    "## Quick Notes on Usage\n",
    "\n",
    "**ExecutionEngine unaware**\n",
    "\n",
    "* `Transformers` are executed on the workers, meaning that they are not unaware of the `ExecutionEngine`.\n",
    "\n",
    "**Acceptable input DataFrame types**\n",
    "\n",
    "* `LocalDataFrame`, `pd.DataFrame`, `List[List[Any]]`, `Iterable[List[Any]]`, `EmptyAwareIterable[List[Any]]`, `List[Dict[str, Any]]`, `Iterable[Dict[str, Any]]`, `EmptyAwareIterable[Dict[str, Any]]`\n",
    "\n",
    "**Acceptable output DataFrame types** \n",
    "\n",
    "* `LocalDataFrame`, `pd.DataFrame`, `List[List[Any]]`, `Iterable[List[Any]]`, `EmptyAwareIterable[List[Any]]`, `List[Dict[str, Any]]`, `Iterable[Dict[str, Any]]`, `EmptyAwareIterable[Dict[str, Any]]`\n",
    "\n",
    "**Further notes**\n",
    "\n",
    "* Notice that `ArrayDataFrame` and other local dataframes can't be used as annotation, you must use `LocalDataFrame`.\n",
    "* `Transformer` requires more explicitness on the output schema compared to `Processor`. This is because schema inference on workers is expensive and unreliable. The schema can be specified through schema hint, decorator, or in the Fugue code.\n",
    "* All valid transformers can be used with Fugue's `transform` in cases where users just want to bring one function to Spark or Dask."
   ]
  },
  {
   "cell_type": "markdown",
   "metadata": {},
   "source": [
    "## Native Approach\n",
    "\n",
    "The native approach is using a regular function without any edits beyond type annotations for both the input dataframes and output. It is converted to a Fugue extension during runtime. Since schema needs to be explicit, the schema needs to be supplied when the `transformer` is used.\n",
    "\n",
    "The example below also shows how to `partition` a DataFrame before applying a `transformer` on it. This will apply the transformer on each partition."
   ]
  },
  {
   "cell_type": "code",
   "execution_count": 1,
   "metadata": {},
   "outputs": [
    {
     "name": "stdout",
     "output_type": "stream",
     "text": [
      "PandasDataFrame\n",
      "a:int|b:int\n",
      "-----+-----\n",
      "0    |4    \n",
      "1    |4    \n",
      "Total count: 2\n",
      "\n",
      "PandasDataFrame\n",
      "a:int|b:int\n",
      "-----+-----\n",
      "0    |5    \n",
      "1    |6    \n",
      "Total count: 2\n",
      "\n"
     ]
    }
   ],
   "source": [
    "from typing import Iterable, Dict, Any, List\n",
    "import pandas as pd\n",
    "from fugue import FugueWorkflow\n",
    "\n",
    "def add(df:pd.DataFrame, n=1) -> pd.DataFrame:\n",
    "    df[\"b\"]+=n\n",
    "    return df\n",
    "    \n",
    "def get_top(df:Iterable[Dict[str,Any]]) -> Iterable[Dict[str,Any]]:\n",
    "    yield next(df)\n",
    "    return\n",
    "\n",
    "with FugueWorkflow() as dag:\n",
    "    df = dag.df([[0,1],[0,2],[1,3],[1,1]],\"a:int,b:int\")\n",
    "    # with out schema hint you have to specify schema in Fugue code\n",
    "    df = df.transform(add, schema=\"*\").transform(add, schema=\"*\", params=dict(n=2))\n",
    "\n",
    "    # get smallest b of each partition\n",
    "    df.partition(by=[\"a\"], presort=\"b\").transform(get_top, schema=\"*\").show()\n",
    "    # get largest b of each partition\n",
    "    df.partition(by=[\"a\"], presort=\"b DESC\").transform(get_top, schema=\"*\").show()"
   ]
  },
  {
   "cell_type": "markdown",
   "metadata": {},
   "source": [
    "## Schema Hint\n",
    "\n",
    "The schema can also be provided during the function definition through the use of the schema hint comment. Providing it during definition means it does not need to be provided inside the `FugueWorkflow`."
   ]
  },
  {
   "cell_type": "code",
   "execution_count": 2,
   "metadata": {},
   "outputs": [
    {
     "name": "stdout",
     "output_type": "stream",
     "text": [
      "PandasDataFrame\n",
      "a:int|b:int\n",
      "-----+-----\n",
      "0    |4    \n",
      "1    |4    \n",
      "Total count: 2\n",
      "\n"
     ]
    }
   ],
   "source": [
    "# schema: *\n",
    "def add(df:pd.DataFrame, n=1) -> pd.DataFrame:\n",
    "    df[\"b\"]+=n\n",
    "    return df\n",
    "    \n",
    "# schema: *\n",
    "def get_top(df:Iterable[Dict[str,Any]]) -> Iterable[Dict[str,Any]]:\n",
    "    yield next(df)\n",
    "    return\n",
    "\n",
    "with FugueWorkflow() as dag:\n",
    "    df = dag.df([[0,1],[0,2],[1,3],[1,1]],\"a:int,b:int\")\n",
    "    # syntax for setting parameters\n",
    "    df = df.transform(add).transform(add, params=dict(n=2)) \n",
    "    df.partition(by=[\"a\"], presort=\"b\").transform(get_top).show()"
   ]
  },
  {
   "cell_type": "markdown",
   "metadata": {},
   "source": [
    "### Schema Hint Syntax\n",
    "\n",
    "There is a special syntax for schema only available to `Transformers` Please read [this](https://triad.readthedocs.io/en/latest/api/triad.collections.html#triad.collections.schema.Schema.transform) for detailed syntax, here we only show some examples."
   ]
  },
  {
   "cell_type": "code",
   "execution_count": 3,
   "metadata": {},
   "outputs": [
    {
     "name": "stdout",
     "output_type": "stream",
     "text": [
      "PandasDataFrame\n",
      "a:int|b:int|c:int\n",
      "-----+-----+-----\n",
      "0    |1    |1    \n",
      "0    |2    |1    \n",
      "Total count: 2\n",
      "\n",
      "PandasDataFrame\n",
      "a:int|c:int\n",
      "-----+-----\n",
      "0    |1    \n",
      "0    |1    \n",
      "Total count: 2\n",
      "\n",
      "PandasDataFrame\n",
      "a:int\n",
      "-----\n",
      "0    \n",
      "0    \n",
      "Total count: 2\n",
      "\n"
     ]
    }
   ],
   "source": [
    "# schema: *,c:int\n",
    "def with_c(df:pd.DataFrame) -> pd.DataFrame:\n",
    "    df[\"c\"]=1\n",
    "    return df\n",
    "\n",
    "# schema: *-b\n",
    "def drop_b(df:pd.DataFrame) -> pd.DataFrame:\n",
    "    return df.drop(\"b\", axis=1)\n",
    "\n",
    "# schema: *~b,c\n",
    "def drop_b_c_if_exists(df:pd.DataFrame) -> pd.DataFrame:\n",
    "    return df.drop([\"b\",\"c\"], axis=1, errors='ignore')\n",
    "\n",
    "with FugueWorkflow() as dag:\n",
    "    df = dag.df([[0,1],[0,2]],\"a:int,b:int\")\n",
    "    df = df.transform(with_c)\n",
    "    df.show()\n",
    "    df = df.transform(drop_b)\n",
    "    df.show()\n",
    "    df = df.transform(drop_b_c_if_exists)\n",
    "    df.show()"
   ]
  },
  {
   "cell_type": "markdown",
   "metadata": {},
   "source": [
    "## Decorator Approach\n",
    "\n",
    "The decorator approach also has the special schema syntax and it can also take a function that generates the schema. This can be used to create new column names or types based on transformer parameters."
   ]
  },
  {
   "cell_type": "code",
   "execution_count": 4,
   "metadata": {},
   "outputs": [
    {
     "name": "stdout",
     "output_type": "stream",
     "text": [
      "PandasDataFrame\n",
      "a:int|b:int|c:int\n",
      "-----+-----+-----\n",
      "0    |1    |1    \n",
      "0    |2    |1    \n",
      "1    |3    |1    \n",
      "1    |1    |1    \n",
      "Total count: 4\n",
      "\n"
     ]
    }
   ],
   "source": [
    "from fugue import transformer\n",
    "\n",
    "# df is the zipped DataFrames, **kwargs is the parameters passed in from Fugue\n",
    "# the syntax below is equivalent to @transformer(\"*,c:int\") \n",
    "@transformer(lambda df, **kwargs: df.schema+\"c:int\") \n",
    "def with_c(df:pd.DataFrame) -> pd.DataFrame:\n",
    "    df[\"c\"]=1\n",
    "    return df\n",
    "\n",
    "with FugueWorkflow() as dag:\n",
    "    df = dag.df([[0,1],[0,2],[1,3],[1,1]],\"a:int,b:int\")\n",
    "    df = df.transform(with_c)\n",
    "    df.show()"
   ]
  },
  {
   "cell_type": "markdown",
   "metadata": {},
   "source": [
    "## Interface Approach (Advanced)\n",
    "\n",
    "All the previous methods are just wrappers of the interface approach. They cover most of the use cases and simplify the usage. But for certain cases, implementing the interface approach significantly improves performance. Example scenarios to use the interface approach are:\n",
    "\n",
    "* The output schema needs partition information, such as partition keys, schema, and current values of the keys.\n",
    "* The transformer has an expensive but common initialization step for processing each logical partition. Initialization should then happen when initialiazing physical partition, meaning it doesn't unnecessarily repeat.\n",
    "\n",
    "The biggest advantage of interface approach is that you can customize physical partition level initialization, and you have all the up-to-date context variables to use. In the interface approach, type annotations are not necessary, but again, it's good practice to have them.\n",
    "\n",
    "From here onwards, we will we using a `create_helper` function that creates a random pandas DataFrame for us."
   ]
  },
  {
   "cell_type": "code",
   "execution_count": 5,
   "metadata": {},
   "outputs": [],
   "source": [
    "import numpy as np\n",
    "\n",
    "def create_helper(ct=20) -> pd.DataFrame:\n",
    "    np.random.seed(0)\n",
    "    return pd.DataFrame(np.random.randint(0,10,size=(ct, 3)), columns=list('abc'))"
   ]
  },
  {
   "cell_type": "markdown",
   "metadata": {},
   "source": [
    "The following examples focuses on performance comparisons. To see how to use context variables, see the [CoTransfromer example](./cotransformer.ipynb#Interface-Approach). In the example below, pay attention to the `get_output_schema` method and the `on_init` method. The `on_init` calls the `expensive_init` function which just sleeps for the given amount of time. This represents an operation with significant overhead."
   ]
  },
  {
   "cell_type": "code",
   "execution_count": 6,
   "metadata": {},
   "outputs": [
    {
     "name": "stdout",
     "output_type": "stream",
     "text": [
      "PandasDataFrame\n",
      "a:long|b:long|c:long|med:double\n",
      "------+------+------+----------\n",
      "0     |4     |7     |4.0       \n",
      "1     |3     |3     |4.0       \n",
      "1     |9     |9     |4.0       \n",
      "1     |4     |9     |4.0       \n",
      "2     |3     |8     |1.5       \n"
     ]
    }
   ],
   "source": [
    "from fugue import Transformer, PandasDataFrame, DataFrame, LocalDataFrame\n",
    "from time import sleep\n",
    "\n",
    "def expensive_init(sec=5):\n",
    "    sleep(sec)\n",
    "\n",
    "class Median(Transformer):\n",
    "    # this is invoked on driver side\n",
    "    def get_output_schema(self, df):\n",
    "        return df.schema + (self.params.get_or_throw(\"col\", str),float)\n",
    "    \n",
    "    # on initialization of the physical partition\n",
    "    def on_init(self, df: DataFrame) -> None:\n",
    "        self.col = self.params.get_or_throw(\"col\", str)\n",
    "        expensive_init(self.params.get(\"sec\",0))\n",
    "        \n",
    "    def transform(self, df):\n",
    "        pdf = df.as_pandas()\n",
    "        pdf[self.col]=pdf[\"b\"].median()\n",
    "        return PandasDataFrame(pdf)\n",
    "        \n",
    "\n",
    "with FugueWorkflow() as dag:\n",
    "    df = dag.create(create_helper)\n",
    "    df.partition(by=[\"a\"]).transform(Median, params={\"col\":\"med\", \"sec\": 1}).show(rows=5) "
   ]
  },
  {
   "cell_type": "markdown",
   "metadata": {},
   "source": [
    "As a side note, this example shows parameters can be retrieved using `self.params.get` or `self.params.get_or_throw`. `self.params` is a dictionary so the `get` method is just the same as accessing a dictionary. `self.params.get_or_throw` throws an error if the param does not match the given type. \n",
    "\n",
    "In order to show the benefit of `on_init` we also create another version of the `Median` transformer using the schema hint. This also calls `expensive_init` in that function for each logical partition. Also, in the run function, we set `num=2` to show the effect when using 2 workers. So for `Median` transformer that used the interface, the `expensive_init` will be called at most twice, but for version which used the schema hint, it will be called for more times.\n",
    "\n",
    "The numbers may be off if you run this on binder, but focus on the difference in magnitude."
   ]
  },
  {
   "cell_type": "code",
   "execution_count": 7,
   "metadata": {},
   "outputs": [
    {
     "name": "stdout",
     "output_type": "stream",
     "text": [
      "SparkDataFrame\n",
      "a:long|b:long|c:long|m:double\n",
      "------+------+------+--------\n",
      "2     |3     |8     |1.5     \n",
      "2     |0     |0     |1.5     \n",
      "4     |7     |6     |5.0     \n",
      "4     |3     |0     |5.0     \n",
      "4     |5     |5     |5.0     \n",
      "Interfaceless Execution time: 10.233126380999238\n",
      "SparkDataFrame\n",
      "a:long|b:long|c:long|m:double\n",
      "------+------+------+--------\n",
      "2     |3     |8     |1.5     \n",
      "2     |0     |0     |1.5     \n",
      "4     |7     |6     |5.0     \n",
      "4     |3     |0     |5.0     \n",
      "4     |5     |5     |5.0     \n",
      "Interface Execution time: 1.8927552820005076\n"
     ]
    }
   ],
   "source": [
    "from fugue_spark import SparkExecutionEngine\n",
    "from timeit import timeit\n",
    "\n",
    "# schema: *, m:double\n",
    "def median(df:pd.DataFrame, sec=0) -> pd.DataFrame:\n",
    "    expensive_init(sec)\n",
    "    df[\"m\"]=df[\"b\"].median()\n",
    "    return df\n",
    "\n",
    "def run(engine, interfaceless, sec):\n",
    "    with FugueWorkflow(engine) as dag:\n",
    "        df = dag.create(create_helper)\n",
    "        if interfaceless:\n",
    "            df.partition(by=[\"a\"], num=2).transform(median, params={\"sec\": sec}).show(rows=5)\n",
    "        else:\n",
    "            df.partition(by=[\"a\"], num=2).transform(Median, params={\"col\":\"m\", \"sec\": sec}).show(rows=5)\n",
    "    \n",
    "engine = SparkExecutionEngine()\n",
    "print(f\"Interfaceless Execution time: {timeit(lambda: run(engine, True, 1), number=1)}\")\n",
    "print(f\"Interface Execution time: {timeit(lambda: run(engine, False, 1), number=1)}\")"
   ]
  },
  {
   "cell_type": "markdown",
   "metadata": {},
   "source": [
    "Using the `on_init` method tremendously sped up the operation because the `expensive_init` was not unnecessarily repeated."
   ]
  },
  {
   "cell_type": "markdown",
   "metadata": {},
   "source": [
    "## Fugue transform\n",
    "\n",
    "All of these transformers above can be used with the Fugue `transform` function. The `transform` function takes in a function or transformer and applies it to the dataframe immediately. As with other Transformers, schema needs to be explicit to it either needs to be supplied during the transformer definition, or during runtime with the `schema` argument.\n",
    "\n",
    "The `transform` function is useful for paralellizing one function over Spark or Dask."
   ]
  },
  {
   "cell_type": "code",
   "execution_count": 8,
   "metadata": {},
   "outputs": [],
   "source": [
    "# schema not supplied, so it is passed later\n",
    "def median1(df:pd.DataFrame, sec=0) -> pd.DataFrame:\n",
    "    df[\"m\"]=df[\"b\"].median()\n",
    "    return df\n",
    "\n",
    "# schema: *, m:double\n",
    "def median2(df:pd.DataFrame, sec=0) -> pd.DataFrame:\n",
    "    df[\"m\"]=df[\"b\"].median()\n",
    "    return df"
   ]
  },
  {
   "cell_type": "markdown",
   "metadata": {},
   "source": [
    "These two transformers can then be used. `median1` was written with the `Native Approach`, so schema will be required for the `transform` call below. `median2` on the other hand, uses the schema hint to provide the schema, so it does not need to be provided during runtime.\n",
    "\n",
    "In both cases below, we pass in the `SparkExecutionEngine`, which converts the initial `df` into a Spark DataFrame and executes the `median` functions in a distributed way. This also returns a Spark DataFrame because compute was run on `SparkExecutionEngine`. It can be converted back to `pandas` using the `toPandas()` method of Spark DataFrames, but this method is only performant for smaller data."
   ]
  },
  {
   "cell_type": "code",
   "execution_count": 9,
   "metadata": {},
   "outputs": [
    {
     "name": "stdout",
     "output_type": "stream",
     "text": [
      "+---+---+---+---+\n",
      "|  a|  b|  c|  m|\n",
      "+---+---+---+---+\n",
      "|  0|  4|  7|4.0|\n",
      "|  6|  7|  7|7.5|\n",
      "+---+---+---+---+\n",
      "only showing top 2 rows\n",
      "\n"
     ]
    },
    {
     "data": {
      "text/html": [
       "<div>\n",
       "<style scoped>\n",
       "    .dataframe tbody tr th:only-of-type {\n",
       "        vertical-align: middle;\n",
       "    }\n",
       "\n",
       "    .dataframe tbody tr th {\n",
       "        vertical-align: top;\n",
       "    }\n",
       "\n",
       "    .dataframe thead th {\n",
       "        text-align: right;\n",
       "    }\n",
       "</style>\n",
       "<table border=\"1\" class=\"dataframe\">\n",
       "  <thead>\n",
       "    <tr style=\"text-align: right;\">\n",
       "      <th></th>\n",
       "      <th>a</th>\n",
       "      <th>b</th>\n",
       "      <th>c</th>\n",
       "      <th>m</th>\n",
       "    </tr>\n",
       "  </thead>\n",
       "  <tbody>\n",
       "    <tr>\n",
       "      <th>0</th>\n",
       "      <td>0</td>\n",
       "      <td>4</td>\n",
       "      <td>7</td>\n",
       "      <td>4.0</td>\n",
       "    </tr>\n",
       "    <tr>\n",
       "      <th>1</th>\n",
       "      <td>6</td>\n",
       "      <td>7</td>\n",
       "      <td>7</td>\n",
       "      <td>7.5</td>\n",
       "    </tr>\n",
       "  </tbody>\n",
       "</table>\n",
       "</div>"
      ],
      "text/plain": [
       "   a  b  c    m\n",
       "0  0  4  7  4.0\n",
       "1  6  7  7  7.5"
      ]
     },
     "execution_count": 9,
     "metadata": {},
     "output_type": "execute_result"
    }
   ],
   "source": [
    "from fugue import transform\n",
    "\n",
    "# sample pandas DataFrame\n",
    "df = create_helper()\n",
    "\n",
    "df1 = transform(df, \n",
    "               median, \n",
    "               schema=\"*, m:double\",\n",
    "               engine=SparkExecutionEngine, \n",
    "               partition=dict(by=\"a\")\n",
    "               )\n",
    "\n",
    "# schema is known for median2\n",
    "df2 = transform(df, \n",
    "               median2, \n",
    "               engine=SparkExecutionEngine, \n",
    "               partition=dict(by=\"a\")\n",
    "               )\n",
    "\n",
    "df1.show(2)\n",
    "# convert back to pandas\n",
    "df2.toPandas().head(2)"
   ]
  }
 ],
 "metadata": {
  "interpreter": {
   "hash": "4cd7ab41f5fca4b9b44701077e38c5ffd31fe66a6cab21e0214b68d958d0e462"
  },
  "kernelspec": {
   "display_name": "Python 3",
   "language": "python",
   "name": "python3"
  },
  "language_info": {
   "codemirror_mode": {
    "name": "ipython",
    "version": 3
   },
   "file_extension": ".py",
   "mimetype": "text/x-python",
   "name": "python",
   "nbconvert_exporter": "python",
   "pygments_lexer": "ipython3",
   "version": "3.7.9"
  }
 },
 "nbformat": 4,
 "nbformat_minor": 4
}