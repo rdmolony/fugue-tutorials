{
 "cells": [
  {
   "cell_type": "markdown",
   "source": [
    "# Output Transformer (Advanced)\n",
    "\n",
    "`OutputTransfomer` is in general similar to `Transformer`. And any `Transformer` can be used as `OutputTransformer`. It is important to understand the difference between the operations `transform` and `out_transform`. \n",
    "\n",
    "* `transform` is lazy, Fugue does not ensure the compute immediately. For example, if using `SparkExecutionEngine`, the real compute of `transform` happens only when hitting an action, for example `save`.\n",
    "* `out_transform` is an action, Fugue ensures the compute happening immediately, regardless of what execution engine is used.\n",
    "* `transform` outputs a transformed dataframe for the following steps to use\n",
    "* `out_transform` is the last compute of a branch in the DAG, it outputs nothing.\n",
    "\n",
    "You may find that `transform().persist()` can be an alternative to `out_transform`, it's in general ok, but you must notice that, the output dataframe of a transformation can be very large, if you persist or checkpoint it, it can take up great portion of memory or disk space. In contrast, `out_transform` does not take any space. Plus, it is a more explicit way to show what you want to do. \n",
    "\n",
    "A typical use case of output_transform is to save the dataframe in a custom way, for example, pushing to redis.\n",
    "\n",
    "In this tutorial are the methods to define an `OutputTransformer`. There is no preferred method and Fugue makes it flexible for users to choose whatever interface works for them. The three ways are native approach, decorator, and the class interface in order of simplicity. Note schema hints do not work."
   ],
   "metadata": {}
  },
  {
   "cell_type": "markdown",
   "source": [
    "## Native Approach\n",
    "\n",
    "An `OutputTransformer` normally returns nothing, so the default schema is `None`. Because of this, it will work if no schema is specified. The `OutputTransformer` is not meant to mutate schema so it will not respect any schema hint. "
   ],
   "metadata": {}
  },
  {
   "cell_type": "code",
   "execution_count": 1,
   "source": [
    "from typing import Iterable, Dict, Any, List\n",
    "from fugue import FugueWorkflow\n",
    "\n",
    "def push_to_redis(df:Iterable[Dict[str,Any]]) -> Iterable[Dict[str,Any]]:\n",
    "    for row in df:\n",
    "        print(\"pushing1\", row)\n",
    "    return df\n",
    "\n",
    "with FugueWorkflow() as dag:\n",
    "    df = dag.df([[0,1],[0,2],[1,3],[1,1]],\"a:int,b:int\")\n",
    "    df.out_transform(push_to_redis)"
   ],
   "outputs": [
    {
     "output_type": "stream",
     "name": "stdout",
     "text": [
      "pushing1 {'a': 0, 'b': 1}\n",
      "pushing1 {'a': 0, 'b': 2}\n",
      "pushing1 {'a': 1, 'b': 3}\n",
      "pushing1 {'a': 1, 'b': 1}\n"
     ]
    }
   ],
   "metadata": {}
  },
  {
   "cell_type": "markdown",
   "source": [
    "## Decorator Approach\n",
    "\n",
    "There is no obvious advantage to use decorator for `OutputTransformer`"
   ],
   "metadata": {}
  },
  {
   "cell_type": "code",
   "execution_count": 2,
   "source": [
    "from fugue.extensions import output_transformer\n",
    "\n",
    "@output_transformer()\n",
    "def push_to_redis(df:Iterable[Dict[str,Any]]) -> None:\n",
    "    for row in df:\n",
    "        print(\"pushing2\", row)\n",
    "        continue\n",
    "        \n",
    "with FugueWorkflow() as dag:\n",
    "    df = dag.df([[0,1],[0,2],[1,3],[1,1]],\"a:int,b:int\")\n",
    "    df.partition(by=[\"a\"], presort=\"b\").out_transform(push_to_redis)"
   ],
   "outputs": [
    {
     "output_type": "stream",
     "name": "stdout",
     "text": [
      "pushing2 {'a': 0, 'b': 1}\n",
      "pushing2 {'a': 0, 'b': 2}\n",
      "pushing2 {'a': 1, 'b': 1}\n",
      "pushing2 {'a': 1, 'b': 3}\n"
     ]
    }
   ],
   "metadata": {}
  },
  {
   "cell_type": "markdown",
   "source": [
    "## Interface Approach (Advanced)\n",
    "\n",
    "Just like the interface approach of `Transformer`, you get all the flexibilities and control over your transformation"
   ],
   "metadata": {}
  },
  {
   "cell_type": "code",
   "execution_count": 3,
   "source": [
    "from fugue.extensions import OutputTransformer\n",
    "    \n",
    "class Push(OutputTransformer):\n",
    "    # Notice OutputTransformer has different interface than Transformer\n",
    "    def process(self, df):\n",
    "        print(\"pushing2\", self.cursor.key_value_dict)\n",
    "        \n",
    "with FugueWorkflow() as dag:\n",
    "    df = dag.df([[0,1],[0,2],[1,3],[1,1]],\"a:int,b:int\")\n",
    "    df.partition(by=[\"a\"], presort=\"b\").out_transform(Push)"
   ],
   "outputs": [
    {
     "output_type": "stream",
     "name": "stdout",
     "text": [
      "pushing2 {'a': 0}\n",
      "pushing2 {'a': 1}\n"
     ]
    }
   ],
   "metadata": {}
  }
 ],
 "metadata": {
  "kernelspec": {
   "name": "python3",
   "display_name": "Python 3.7.9 64-bit"
  },
  "language_info": {
   "codemirror_mode": {
    "name": "ipython",
    "version": 3
   },
   "file_extension": ".py",
   "mimetype": "text/x-python",
   "name": "python",
   "nbconvert_exporter": "python",
   "pygments_lexer": "ipython3",
   "version": "3.7.9"
  },
  "orig_nbformat": 2,
  "interpreter": {
   "hash": "4cd7ab41f5fca4b9b44701077e38c5ffd31fe66a6cab21e0214b68d958d0e462"
  }
 },
 "nbformat": 4,
 "nbformat_minor": 2
}