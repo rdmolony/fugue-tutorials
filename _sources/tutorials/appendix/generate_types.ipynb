{
 "metadata": {
  "language_info": {
   "codemirror_mode": {
    "name": "ipython",
    "version": 3
   },
   "file_extension": ".py",
   "mimetype": "text/x-python",
   "name": "python",
   "nbconvert_exporter": "python",
   "pygments_lexer": "ipython3",
   "version": "3.8.0"
  },
  "orig_nbformat": 2,
  "kernelspec": {
   "name": "python3",
   "display_name": "Python 3.8.0 64-bit ('fugue-tutorials': conda)",
   "metadata": {
    "interpreter": {
     "hash": "131b24c7e1bb8763ab2b04d5b6d98a68c7b3a823a2a57c5722935f7690890f70"
    }
   }
  }
 },
 "nbformat": 4,
 "nbformat_minor": 2,
 "cells": [
  {
   "source": [
    "# Fugue and PyArrow Types\n",
    "\n",
    "We can use Fugue SQL to generate Fugue -> PyArrow type table."
   ],
   "cell_type": "markdown",
   "metadata": {}
  },
  {
   "cell_type": "code",
   "execution_count": 1,
   "metadata": {},
   "outputs": [
    {
     "output_type": "stream",
     "name": "stdout",
     "text": [
      "PandasDataFrame\nis_primary:str|fugue_type_expr:str|pa_type:str                                                      \n--------------+-------------------+-----------------------------------------------------------------\nYES           |bytes              |binary                                                           \n.             |binary             |binary                                                           \nYES           |bool               |bool                                                             \n.             |boolean            |bool                                                             \nYES           |date               |date32[day]                                                      \nYES           |double             |double                                                           \n.             |float64            |double                                                           \nYES           |float              |float                                                            \n.             |float32            |float                                                            \nYES           |float16            |halffloat                                                        \nYES           |short              |int16                                                            \n.             |int16              |int16                                                            \nYES           |int                |int32                                                            \n.             |int32              |int32                                                            \nYES           |long               |int64                                                            \n.             |int64              |int64                                                            \nYES           |byte               |int8                                                             \n.             |int8               |int8                                                             \nYES           |null               |null                                                             \nYES           |str                |string                                                           \n.             |string             |string                                                           \nYES           |datetime           |timestamp[us]                                                    \nYES           |ushort             |uint16                                                           \n.             |uint16             |uint16                                                           \nYES           |uint               |uint32                                                           \n.             |uint32             |uint32                                                           \nYES           |ulong              |uint64                                                           \n.             |uint64             |uint64                                                           \nYES           |ubyte              |uint8                                                            \n.             |uint8              |uint8                                                            \nTotal count: 30\n\n"
     ]
    }
   ],
   "source": [
    "import triad\n",
    "from fugue_sql import FugueSQLWorkflow\n",
    "from typing import List, Any\n",
    "\n",
    "#schema: fugue_type_expr:str, pa_type:str\n",
    "def type_to_expr(primary:bool=False) -> List[List[Any]]:\n",
    "    if not primary:\n",
    "        return [[k,str(v)] for k,v in triad.utils.pyarrow._TYPE_EXPRESSION_MAPPING.items()]\n",
    "    else:\n",
    "        return [[v,str(k)] for k,v in triad.utils.pyarrow._TYPE_EXPRESSION_R_MAPPING.items()]\n",
    "    \n",
    "with FugueSQLWorkflow() as dag:\n",
    "    dag(\"\"\"\n",
    "    f2p = CREATE USING type_to_expr\n",
    "    f2p_primary = CREATE USING type_to_expr(primary=true)\n",
    "    SELECT CASE WHEN f2p_primary.pa_type IS NOT NULL THEN \"YES\" ELSE \".\" END AS is_primary,f2p.*\n",
    "        FROM f2p LEFT OUTER JOIN f2p_primary \n",
    "        ON f2p.fugue_type_expr=f2p_primary.fugue_type_expr\n",
    "        ORDER BY pa_type, is_primary DESC\n",
    "    \n",
    "    PRINT 100 ROWS\n",
    "    \"\"\")"
   ]
  }
 ]
}